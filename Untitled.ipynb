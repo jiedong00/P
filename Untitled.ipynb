{
  "nbformat": 4,
  "nbformat_minor": 0,
  "metadata": {
    "colab": {
      "name": "Untitled",
      "provenance": [],
      "collapsed_sections": [],
      "include_colab_link": true
    },
    "kernelspec": {
      "name": "python3",
      "display_name": "Python 3"
    }
  },
  "cells": [
    {
      "cell_type": "markdown",
      "metadata": {
        "id": "view-in-github",
        "colab_type": "text"
      },
      "source": [
        "<a href=\"https://colab.research.google.com/github/jiedong00/P/blob/master/Untitled.ipynb\" target=\"_parent\"><img src=\"https://colab.research.google.com/assets/colab-badge.svg\" alt=\"Open In Colab\"/></a>"
      ]
    },
    {
      "cell_type": "markdown",
      "metadata": {
        "id": "JN437SEVsyLh"
      },
      "source": [
        "Data can be accessed from the blog:\n",
        "\n",
        "https://c3.ai/blog/enterprise-ai-meets-covid-19/"
      ]
    },
    {
      "cell_type": "code",
      "metadata": {
        "id": "6_OibPu64TRu",
        "outputId": "4da5f15f-c297-4098-e4eb-6908e2cc5e65",
        "colab": {
          "base_uri": "https://localhost:8080/",
          "height": 35
        }
      },
      "source": [
        "cd .."
      ],
      "execution_count": null,
      "outputs": [
        {
          "output_type": "stream",
          "text": [
            "/\n"
          ],
          "name": "stdout"
        }
      ]
    },
    {
      "cell_type": "code",
      "metadata": {
        "id": "qyYuppNe4xFT",
        "outputId": "c9cfd7e0-34d8-4f50-e954-240ce092762c",
        "colab": {
          "base_uri": "https://localhost:8080/",
          "height": 35
        }
      },
      "source": [
        "cd content/"
      ],
      "execution_count": null,
      "outputs": [
        {
          "output_type": "stream",
          "text": [
            "/content\n"
          ],
          "name": "stdout"
        }
      ]
    },
    {
      "cell_type": "code",
      "metadata": {
        "id": "hqM65Ux4ke4s"
      },
      "source": [
        "mkdir Alldata"
      ],
      "execution_count": null,
      "outputs": []
    },
    {
      "cell_type": "code",
      "metadata": {
        "id": "hSxpRGLIlyiF",
        "outputId": "839e5d23-2d3d-46a6-cb27-8d68ef913ba7",
        "colab": {
          "base_uri": "https://localhost:8080/",
          "height": 35
        }
      },
      "source": [
        "cd Alldata"
      ],
      "execution_count": null,
      "outputs": [
        {
          "output_type": "stream",
          "text": [
            "/content/Alldata\n"
          ],
          "name": "stdout"
        }
      ]
    },
    {
      "cell_type": "code",
      "metadata": {
        "id": "i7vWW37Y4d9L"
      },
      "source": [
        "mkdir Johns_Hopkins_COVID-19_Data_Repository"
      ],
      "execution_count": null,
      "outputs": []
    },
    {
      "cell_type": "code",
      "metadata": {
        "id": "DsSJudcQhMMd",
        "outputId": "b7c9a4ed-1aa1-40c4-d7f3-ec68c2decdbf",
        "colab": {
          "base_uri": "https://localhost:8080/",
          "height": 35
        }
      },
      "source": [
        "cd Johns_Hopkins_COVID-19_Data_Repository"
      ],
      "execution_count": null,
      "outputs": [
        {
          "output_type": "stream",
          "text": [
            "/content/Alldata/Johns_Hopkins_COVID-19_Data_Repository\n"
          ],
          "name": "stdout"
        }
      ]
    },
    {
      "cell_type": "code",
      "metadata": {
        "id": "EdK6mV2xok7v",
        "outputId": "05c8d160-97f1-488c-e15a-4f079bd8c007",
        "colab": {
          "base_uri": "https://localhost:8080/",
          "height": 164
        }
      },
      "source": [
        "#get Johns Hopkins University: COVID-19 Data Repository\n",
        "!git clone https://github.com/CSSEGISandData/COVID-19.git"
      ],
      "execution_count": null,
      "outputs": [
        {
          "output_type": "stream",
          "text": [
            "Cloning into 'COVID-19'...\n",
            "remote: Enumerating objects: 42, done.\u001b[K\n",
            "remote: Counting objects: 100% (42/42), done.\u001b[K\n",
            "remote: Compressing objects: 100% (23/23), done.\u001b[K\n",
            "remote: Total 57498 (delta 24), reused 34 (delta 19), pack-reused 57456\u001b[K\n",
            "Receiving objects: 100% (57498/57498), 489.83 MiB | 30.00 MiB/s, done.\n",
            "Resolving deltas: 100% (36390/36390), done.\n",
            "Checking out files: 100% (678/678), done.\n"
          ],
          "name": "stdout"
        }
      ]
    },
    {
      "cell_type": "code",
      "metadata": {
        "id": "TEtgNem05BCf",
        "outputId": "64505d26-d9c4-4919-edfe-2df45da4a924",
        "colab": {
          "base_uri": "https://localhost:8080/",
          "height": 35
        }
      },
      "source": [
        "cd .."
      ],
      "execution_count": null,
      "outputs": [
        {
          "output_type": "stream",
          "text": [
            "/content/Alldata\n"
          ],
          "name": "stdout"
        }
      ]
    },
    {
      "cell_type": "code",
      "metadata": {
        "id": "SM7GR20Co3t3"
      },
      "source": [
        "mkdir COVID_Tracking_Project"
      ],
      "execution_count": null,
      "outputs": []
    },
    {
      "cell_type": "code",
      "metadata": {
        "id": "kS8O4P8RsPrt",
        "outputId": "700b25bd-1924-42b9-af28-d03b30084bcf",
        "colab": {
          "base_uri": "https://localhost:8080/",
          "height": 35
        }
      },
      "source": [
        "cd COVID_Tracking_Project "
      ],
      "execution_count": null,
      "outputs": [
        {
          "output_type": "stream",
          "text": [
            "/content/Alldata/COVID_Tracking_Project\n"
          ],
          "name": "stdout"
        }
      ]
    },
    {
      "cell_type": "code",
      "metadata": {
        "id": "ZAQ5UNOlsTLG",
        "outputId": "2819fef0-afa3-4259-b2c1-665759e94089",
        "colab": {
          "base_uri": "https://localhost:8080/",
          "height": 239
        }
      },
      "source": [
        "!wget https://docs.google.com/spreadsheets/d/e/2PACX-1vR_xmYt4ACPDZCDJcY12kCiMiH0ODyx3E1ZvgOHB8ae1tRcjXbs_yWBOA4j4uoCEADVfC1PS2jYO68B/pub?gid=43720681&single=true&output=csv"
      ],
      "execution_count": null,
      "outputs": [
        {
          "output_type": "stream",
          "text": [
            "--2020-10-13 15:36:01--  https://docs.google.com/spreadsheets/d/e/2PACX-1vR_xmYt4ACPDZCDJcY12kCiMiH0ODyx3E1ZvgOHB8ae1tRcjXbs_yWBOA4j4uoCEADVfC1PS2jYO68B/pub?gid=43720681\n",
            "Resolving docs.google.com (docs.google.com)... 74.125.31.100, 74.125.31.139, 74.125.31.113, ...\n",
            "Connecting to docs.google.com (docs.google.com)|74.125.31.100|:443... connected.\n",
            "HTTP request sent, awaiting response... 200 OK\n",
            "Length: unspecified [text/html]\n",
            "Saving to: ‘pub?gid=43720681’\n",
            "\n",
            "pub?gid=43720681        [    <=>             ]  25.21M  39.5MB/s    in 0.6s    \n",
            "\n",
            "2020-10-13 15:36:29 (39.5 MB/s) - ‘pub?gid=43720681’ saved [26440619]\n",
            "\n"
          ],
          "name": "stdout"
        }
      ]
    },
    {
      "cell_type": "code",
      "metadata": {
        "id": "jWB0ZE5j5SP1",
        "outputId": "c1bf8894-9a47-42b4-c4c1-588e8e6608b3",
        "colab": {
          "base_uri": "https://localhost:8080/",
          "height": 35
        }
      },
      "source": [
        "cd .."
      ],
      "execution_count": null,
      "outputs": [
        {
          "output_type": "stream",
          "text": [
            "/content/Alldata\n"
          ],
          "name": "stdout"
        }
      ]
    },
    {
      "cell_type": "code",
      "metadata": {
        "id": "--dP3Eou5XRp"
      },
      "source": [
        "mkdir NYC_COVID-19_Data"
      ],
      "execution_count": null,
      "outputs": []
    },
    {
      "cell_type": "code",
      "metadata": {
        "id": "tZjBzZDnh-dR",
        "outputId": "73f0042b-0790-4491-fedb-7be687c26eec",
        "colab": {
          "base_uri": "https://localhost:8080/",
          "height": 35
        }
      },
      "source": [
        "cd NYC_COVID-19_Data"
      ],
      "execution_count": null,
      "outputs": [
        {
          "output_type": "stream",
          "text": [
            "/content/Alldata/NYC_COVID-19_Data\n"
          ],
          "name": "stdout"
        }
      ]
    },
    {
      "cell_type": "code",
      "metadata": {
        "id": "eHU2ZrnYsXYo",
        "outputId": "dc1c1a79-55b9-41fc-a4c5-f434f93d8962",
        "colab": {
          "base_uri": "https://localhost:8080/",
          "height": 146
        }
      },
      "source": [
        "!git clone https://github.com/nytimes/covid-19-data.git"
      ],
      "execution_count": null,
      "outputs": [
        {
          "output_type": "stream",
          "text": [
            "Cloning into 'covid-19-data'...\n",
            "remote: Enumerating objects: 15, done.\u001b[K\n",
            "remote: Counting objects: 100% (15/15), done.\u001b[K\n",
            "remote: Compressing objects: 100% (13/13), done.\u001b[K\n",
            "remote: Total 6452 (delta 5), reused 12 (delta 2), pack-reused 6437\u001b[K\n",
            "Receiving objects: 100% (6452/6452), 169.63 MiB | 23.55 MiB/s, done.\n",
            "Resolving deltas: 100% (3912/3912), done.\n"
          ],
          "name": "stdout"
        }
      ]
    },
    {
      "cell_type": "code",
      "metadata": {
        "id": "CNufavlA6F8-",
        "outputId": "3599ca14-6870-4400-a3b0-ecbd99604abd",
        "colab": {
          "base_uri": "https://localhost:8080/",
          "height": 35
        }
      },
      "source": [
        "cd .."
      ],
      "execution_count": null,
      "outputs": [
        {
          "output_type": "stream",
          "text": [
            "/content/Alldata\n"
          ],
          "name": "stdout"
        }
      ]
    },
    {
      "cell_type": "code",
      "metadata": {
        "id": "-lezxXdz6Hfe"
      },
      "source": [
        "mkdir nCoV-2019_Epidemiology_Data"
      ],
      "execution_count": null,
      "outputs": []
    },
    {
      "cell_type": "code",
      "metadata": {
        "id": "OjziJ3cpt0qI",
        "outputId": "d00d443b-ce15-4ef2-e1f1-d587ed67818f",
        "colab": {
          "base_uri": "https://localhost:8080/",
          "height": 35
        }
      },
      "source": [
        "cd nCoV-2019_Epidemiology_Data"
      ],
      "execution_count": null,
      "outputs": [
        {
          "output_type": "stream",
          "text": [
            "/content/Alldata/nCoV-2019_Epidemiology_Data\n"
          ],
          "name": "stdout"
        }
      ]
    },
    {
      "cell_type": "code",
      "metadata": {
        "id": "uTsIhD-NvEJr",
        "outputId": "d0ed85b7-01d9-4448-e7b2-b76ac7172c6a",
        "colab": {
          "base_uri": "https://localhost:8080/",
          "height": 239
        }
      },
      "source": [
        "!wget https://raw.githubusercontent.com/beoutbreakprepared/nCoV2019/master/latest_data/latestdata.tar.gz"
      ],
      "execution_count": null,
      "outputs": [
        {
          "output_type": "stream",
          "text": [
            "--2020-10-13 15:36:58--  https://raw.githubusercontent.com/beoutbreakprepared/nCoV2019/master/latest_data/latestdata.tar.gz\n",
            "Resolving raw.githubusercontent.com (raw.githubusercontent.com)... 151.101.0.133, 151.101.64.133, 151.101.128.133, ...\n",
            "Connecting to raw.githubusercontent.com (raw.githubusercontent.com)|151.101.0.133|:443... connected.\n",
            "HTTP request sent, awaiting response... 200 OK\n",
            "Length: 16036073 (15M) [application/octet-stream]\n",
            "Saving to: ‘latestdata.tar.gz’\n",
            "\n",
            "latestdata.tar.gz   100%[===================>]  15.29M  24.4MB/s    in 0.6s    \n",
            "\n",
            "2020-10-13 15:36:58 (24.4 MB/s) - ‘latestdata.tar.gz’ saved [16036073/16036073]\n",
            "\n"
          ],
          "name": "stdout"
        }
      ]
    },
    {
      "cell_type": "code",
      "metadata": {
        "id": "GDoa6Us1vS9-",
        "outputId": "bb7352bc-b3a3-4019-98e7-7f6b1e47ca26",
        "colab": {
          "base_uri": "https://localhost:8080/",
          "height": 35
        }
      },
      "source": [
        "!tar -xvf 'latestdata.tar.gz'"
      ],
      "execution_count": null,
      "outputs": [
        {
          "output_type": "stream",
          "text": [
            "latestdata.csv\n"
          ],
          "name": "stdout"
        }
      ]
    },
    {
      "cell_type": "code",
      "metadata": {
        "id": "c1xMy5XD6VGi",
        "outputId": "db224366-4e8e-4e59-e5bf-3ea46094ba88",
        "colab": {
          "base_uri": "https://localhost:8080/",
          "height": 35
        }
      },
      "source": [
        "cd .."
      ],
      "execution_count": null,
      "outputs": [
        {
          "output_type": "stream",
          "text": [
            "/content/Alldata\n"
          ],
          "name": "stdout"
        }
      ]
    },
    {
      "cell_type": "code",
      "metadata": {
        "id": "s172NOiY6Wm7"
      },
      "source": [
        "mkdir Empty_MOBS_Lab_COVID-19_Situation_Report"
      ],
      "execution_count": null,
      "outputs": []
    },
    {
      "cell_type": "code",
      "metadata": {
        "id": "k7i7GkEs6j-v"
      },
      "source": [
        "mkdir E_WHO_Daily_Situation_Report"
      ],
      "execution_count": null,
      "outputs": []
    },
    {
      "cell_type": "code",
      "metadata": {
        "id": "nF9U_JA26sLw"
      },
      "source": [
        "mkdir E_European_CDC_Worldwide_Situation_Updates"
      ],
      "execution_count": null,
      "outputs": []
    },
    {
      "cell_type": "code",
      "metadata": {
        "id": "hBZrH1mI7DlE"
      },
      "source": [
        "mkdir U_of_Montreal_COVID-19_Image_Data_Collection"
      ],
      "execution_count": null,
      "outputs": []
    },
    {
      "cell_type": "code",
      "metadata": {
        "id": "JbZLbGqJvwc_",
        "outputId": "b2ad8b1e-15e9-446a-b144-67d0086e92e6",
        "colab": {
          "base_uri": "https://localhost:8080/",
          "height": 35
        }
      },
      "source": [
        "cd U_of_Montreal_COVID-19_Image_Data_Collection"
      ],
      "execution_count": null,
      "outputs": [
        {
          "output_type": "stream",
          "text": [
            "/content/Alldata/U_of_Montreal_COVID-19_Image_Data_Collection\n"
          ],
          "name": "stdout"
        }
      ]
    },
    {
      "cell_type": "code",
      "metadata": {
        "id": "1fTtRw2qwwKQ",
        "outputId": "667da544-af98-4731-a777-61cbf24d7c2a",
        "colab": {
          "base_uri": "https://localhost:8080/",
          "height": 164
        }
      },
      "source": [
        "!git clone https://github.com/ieee8023/covid-chestxray-dataset.git"
      ],
      "execution_count": null,
      "outputs": [
        {
          "output_type": "stream",
          "text": [
            "Cloning into 'covid-chestxray-dataset'...\n",
            "remote: Enumerating objects: 15, done.\u001b[K\n",
            "remote: Counting objects: 100% (15/15), done.\u001b[K\n",
            "remote: Compressing objects: 100% (10/10), done.\u001b[K\n",
            "remote: Total 3614 (delta 7), reused 11 (delta 5), pack-reused 3599\u001b[K\n",
            "Receiving objects: 100% (3614/3614), 633.00 MiB | 41.33 MiB/s, done.\n",
            "Resolving deltas: 100% (1430/1430), done.\n",
            "Checking out files: 100% (1173/1173), done.\n"
          ],
          "name": "stdout"
        }
      ]
    },
    {
      "cell_type": "code",
      "metadata": {
        "id": "OlM5PGGQ7Vgo",
        "outputId": "4660ad73-2c21-4eb7-9539-3c49a186321a",
        "colab": {
          "base_uri": "https://localhost:8080/",
          "height": 35
        }
      },
      "source": [
        "cd .."
      ],
      "execution_count": null,
      "outputs": [
        {
          "output_type": "stream",
          "text": [
            "/content/Alldata\n"
          ],
          "name": "stdout"
        }
      ]
    },
    {
      "cell_type": "code",
      "metadata": {
        "id": "1U4LGcaZy9rg"
      },
      "source": [
        "mkdir NCBI_Virus_Database_National_Center_for_Biotechnology_Information "
      ],
      "execution_count": null,
      "outputs": []
    },
    {
      "cell_type": "code",
      "metadata": {
        "id": "UQp_K3oi7uD-"
      },
      "source": [
        "mkdir COVID-19_Open_Research_Dataset"
      ],
      "execution_count": null,
      "outputs": []
    },
    {
      "cell_type": "code",
      "metadata": {
        "id": "JAToumIv71zw",
        "outputId": "598a8187-ed38-4e90-e324-09b646454687",
        "colab": {
          "base_uri": "https://localhost:8080/",
          "height": 35
        }
      },
      "source": [
        "cd COVID-19_Open_Research_Dataset"
      ],
      "execution_count": null,
      "outputs": [
        {
          "output_type": "stream",
          "text": [
            "/content/Alldata/COVID-19_Open_Research_Dataset\n"
          ],
          "name": "stdout"
        }
      ]
    },
    {
      "cell_type": "code",
      "metadata": {
        "id": "7_xH8EiQ73vi",
        "outputId": "1556719b-d688-41ec-866f-2154df37c349",
        "colab": {
          "base_uri": "https://localhost:8080/",
          "height": 257
        }
      },
      "source": [
        "#Go to Your Account and click on Create New API Token. A file named kaggle.json\n",
        "#will get downloaded containing your username and token key\n",
        "#this file needed to be uploaded to this folder\n",
        "!wget \n",
        "import os\n",
        "os.environ['KAGGLE_CONFIG_DIR'] = \"/content/Alldata/COVID-19_Open_Research_Dataset\" \n",
        "!kaggle datasets download -d "
      ],
      "execution_count": null,
      "outputs": [
        {
          "output_type": "stream",
          "text": [
            "wget: missing URL\n",
            "Usage: wget [OPTION]... [URL]...\n",
            "\n",
            "Try `wget --help' for more options.\n",
            "Traceback (most recent call last):\n",
            "  File \"/usr/local/bin/kaggle\", line 5, in <module>\n",
            "    from kaggle.cli import main\n",
            "  File \"/usr/local/lib/python2.7/dist-packages/kaggle/__init__.py\", line 23, in <module>\n",
            "    api.authenticate()\n",
            "  File \"/usr/local/lib/python2.7/dist-packages/kaggle/api/kaggle_api_extended.py\", line 146, in authenticate\n",
            "    self.config_file, self.config_dir))\n",
            "IOError: Could not find kaggle.json. Make sure it's located in /content/Alldata/COVID-19_Open_Research_Dataset. Or use the environment method.\n"
          ],
          "name": "stdout"
        }
      ]
    },
    {
      "cell_type": "code",
      "metadata": {
        "id": "8wW_dyVC8cqx",
        "outputId": "e4687ddc-92d4-4465-af6d-97b49012d322",
        "colab": {
          "base_uri": "https://localhost:8080/",
          "height": 209
        }
      },
      "source": [
        "downloaded.GetContentFile('https://doc-0g-0k-docs.googleusercontent.com/docs/securesc/9b601pcta8bo71uuf0vtoemkjui8g2ij/8146sq7gkced4p3mcdab2985uk0mdf4u/1602559200000/08255434219023167118/08255434219023167118/1JMxuqgUZgXaFloloG6gKF_QOdq9HAHSB?e=download&authuser=0')"
      ],
      "execution_count": null,
      "outputs": [
        {
          "output_type": "error",
          "ename": "NameError",
          "evalue": "ignored",
          "traceback": [
            "\u001b[0;31m---------------------------------------------------------------------------\u001b[0m",
            "\u001b[0;31mNameError\u001b[0m                                 Traceback (most recent call last)",
            "\u001b[0;32m<ipython-input-33-d57efa5a3530>\u001b[0m in \u001b[0;36m<module>\u001b[0;34m()\u001b[0m\n\u001b[0;32m----> 1\u001b[0;31m \u001b[0mdownloaded\u001b[0m\u001b[0;34m.\u001b[0m\u001b[0mGetContentFile\u001b[0m\u001b[0;34m(\u001b[0m\u001b[0;34m'https://doc-0g-0k-docs.googleusercontent.com/docs/securesc/9b601pcta8bo71uuf0vtoemkjui8g2ij/8146sq7gkced4p3mcdab2985uk0mdf4u/1602559200000/08255434219023167118/08255434219023167118/1JMxuqgUZgXaFloloG6gKF_QOdq9HAHSB?e=download&authuser=0'\u001b[0m\u001b[0;34m)\u001b[0m\u001b[0;34m\u001b[0m\u001b[0;34m\u001b[0m\u001b[0m\n\u001b[0m",
            "\u001b[0;31mNameError\u001b[0m: name 'downloaded' is not defined"
          ]
        }
      ]
    },
    {
      "cell_type": "code",
      "metadata": {
        "id": "2n_kVvRs-wIz"
      },
      "source": [
        ""
      ],
      "execution_count": null,
      "outputs": []
    }
  ]
}